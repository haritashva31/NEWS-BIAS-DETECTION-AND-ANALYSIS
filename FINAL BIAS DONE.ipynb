{
 "cells": [
  {
   "cell_type": "code",
   "execution_count": 1,
   "id": "e75c053b",
   "metadata": {},
   "outputs": [
    {
     "name": "stdout",
     "output_type": "stream",
     "text": [
      "Results saved to: /Downloads/result.csv\n"
     ]
    }
   ],
   "source": [
    "import pandas as pd\n",
    "from nltk.corpus import opinion_lexicon\n",
    "from nltk.tokenize import word_tokenize\n",
    "from vaderSentiment.vaderSentiment import SentimentIntensityAnalyzer\n",
    "\n",
    "# Initialize the sentiment analyzer\n",
    "analyzer = SentimentIntensityAnalyzer()\n",
    "\n",
    "# Load subjectivity lexicon\n",
    "subjectivity_lexicon = set(opinion_lexicon.words())\n",
    "\n",
    "# Define function to calculate subjectivity and sentiment scores\n",
    "def calculate_subjectivity_and_sentiment(text):\n",
    "    # Initialize scores\n",
    "    subjectivity_score = 0\n",
    "    sentiment_score = 0\n",
    "    \n",
    "    # Tokenize the text\n",
    "    words = word_tokenize(text)\n",
    "    \n",
    "    # Calculate subjectivity score\n",
    "    for word in words:\n",
    "        if word in subjectivity_lexicon:\n",
    "            subjectivity_score += 1\n",
    "    \n",
    "    # Calculate sentiment score using VADER\n",
    "    sentiment_scores = analyzer.polarity_scores(text)\n",
    "    sentiment_score = sentiment_scores['compound']\n",
    "    \n",
    "    # Return the calculated scores\n",
    "    return subjectivity_score, sentiment_score\n",
    "\n",
    "# Define function to detect bias\n",
    "def detect_bias(data):\n",
    "    subjectivity_threshold_high = 7.0\n",
    "    subjectivity_threshold_moderate = 4.0\n",
    "    sentiment_threshold_extreme = 0.7\n",
    "    sentiment_threshold_moderate = 0.3\n",
    "    \n",
    "    # Define function to detect bias per row\n",
    "    def detect_bias_per_row(row):\n",
    "        # Get subjectivity and sentiment scores\n",
    "        subjectivity_score, sentiment_score = calculate_subjectivity_and_sentiment(row['processed_text'])\n",
    "        \n",
    "        # Check subjectivity and sentiment levels\n",
    "        if subjectivity_score >= subjectivity_threshold_high and abs(sentiment_score) >= sentiment_threshold_extreme:\n",
    "            return 'High bias'\n",
    "        elif subjectivity_score >= subjectivity_threshold_moderate and abs(sentiment_score) >= sentiment_threshold_moderate:\n",
    "            return 'Moderate bias'\n",
    "        elif subjectivity_score < subjectivity_threshold_moderate and abs(sentiment_score) < sentiment_threshold_moderate:\n",
    "            return 'Low bias'\n",
    "        else:\n",
    "            return 'Unknown bias'\n",
    "    \n",
    "    # Apply bias detection to each row\n",
    "    data['bias_label'] = data.apply(detect_bias_per_row, axis=1)\n",
    "    \n",
    "    return data\n",
    "\n",
    "# Define main function to process the input CSV file\n",
    "def main(input_file_path, output_file_path):\n",
    "    # Load the data\n",
    "    data = pd.read_csv(input_file_path)\n",
    "    \n",
    "    # Apply bias detection\n",
    "    data = detect_bias(data)\n",
    "    \n",
    "    # Save the results to a new CSV file\n",
    "    data.to_csv(output_file_path, index=False)\n",
    "    print(f'Results saved to: {output_file_path}')\n",
    "\n",
    "# Specify the input and output file paths\n",
    "input_csv_file_path = '/Downloads/test_with_sentiment.csv'  # Specify the input CSV file path\n",
    "output_csv_file_path = '/Downloads/result.csv'  # Specify the output CSV file path\n",
    "\n",
    "# Run the main function\n",
    "main(input_csv_file_path, output_csv_file_path)\n"
   ]
  },
  {
   "cell_type": "code",
   "execution_count": null,
   "id": "ff47adad",
   "metadata": {},
   "outputs": [],
   "source": []
  }
 ],
 "metadata": {
  "kernelspec": {
   "display_name": "Python 3 (ipykernel)",
   "language": "python",
   "name": "python3"
  },
  "language_info": {
   "codemirror_mode": {
    "name": "ipython",
    "version": 3
   },
   "file_extension": ".py",
   "mimetype": "text/x-python",
   "name": "python",
   "nbconvert_exporter": "python",
   "pygments_lexer": "ipython3",
   "version": "3.11.3"
  }
 },
 "nbformat": 4,
 "nbformat_minor": 5
}
