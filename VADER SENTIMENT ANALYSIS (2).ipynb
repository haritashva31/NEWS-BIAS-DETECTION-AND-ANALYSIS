{
 "cells": [
  {
   "cell_type": "code",
   "execution_count": 2,
   "id": "eb458aec",
   "metadata": {},
   "outputs": [],
   "source": [
    "# Import necessary libraries\n",
    "import pandas as pd\n",
    "import string\n",
    "from nltk.corpus import stopwords\n",
    "from nltk.tokenize import word_tokenize\n",
    "from nltk.stem import WordNetLemmatizer\n",
    "from vaderSentiment.vaderSentiment import SentimentIntensityAnalyzer\n",
    "import nltk\n",
    "\n",
    "\n",
    "# Define constants\n",
    "POSITIVE = 1\n",
    "NEGATIVE = 0\n",
    "NEUTRAL = -1\n",
    "\n",
    "# Define lemmatizer and stop words\n",
    "lemmatizer = WordNetLemmatizer()\n",
    "stop_words = set(stopwords.words('english'))\n",
    "\n",
    "# Function to preprocess the text data\n",
    "def preprocess_text(text):\n",
    "    # Convert text to lowercase\n",
    "    text = text.lower()\n",
    "    \n",
    "    # Remove punctuation\n",
    "    text = text.translate(str.maketrans('', '', string.punctuation))\n",
    "    \n",
    "    # Tokenize the text\n",
    "    words = word_tokenize(text)\n",
    "    \n",
    "    # Lemmatize and remove stop words\n",
    "    words = [lemmatizer.lemmatize(word) for word in words if word not in stop_words]\n",
    "    \n",
    "    # Join the words back into a single string\n",
    "    return ' '.join(words)\n",
    "\n",
    "# Load the data\n",
    "train_data = pd.read_csv('/Users/meetsmacbook/Downloads/archive (10)/train.csv')\n",
    "test_data = pd.read_csv('/Users/meetsmacbook/Downloads/archive (10)/test.csv')\n",
    "\n",
    "# Combine title and description into a single text column\n",
    "train_data['text'] = train_data['Title'] + ' ' + train_data['Description']\n",
    "test_data['text'] = test_data['Title'] + ' ' + test_data['Description']\n",
    "\n",
    "# Preprocess the text columns in the data\n",
    "train_data['processed_text'] = train_data['text'].apply(preprocess_text)\n",
    "test_data['processed_text'] = test_data['text'].apply(preprocess_text)\n",
    "\n",
    "\n"
   ]
  },
  {
   "cell_type": "code",
   "execution_count": 3,
   "id": "aee826db",
   "metadata": {},
   "outputs": [
    {
     "name": "stdout",
     "output_type": "stream",
     "text": [
      "                                                text  sentiment_label\n",
      "0  Wall St. Bears Claw Back Into the Black (Reute...               -1\n",
      "1  Carlyle Looks Toward Commercial Aerospace (Reu...                1\n",
      "2  Oil and Economy Cloud Stocks' Outlook (Reuters...                0\n",
      "3  Iraq Halts Oil Exports from Main Southern Pipe...                0\n",
      "4  Oil prices soar to all-time record, posing new...                0\n",
      "                                                text  sentiment_label\n",
      "0  Fears for T N pension after talks Unions repre...                0\n",
      "1  The Race is On: Second Private Team Sets Launc...                1\n",
      "2  Ky. Company Wins Grant to Study Peptides (AP) ...                1\n",
      "3  Prediction Unit Helps Forecast Wildfires (AP) ...                1\n",
      "4  Calif. Aims to Limit Farm-Related Smog (AP) AP...                0\n"
     ]
    }
   ],
   "source": [
    "# Instantiate the SentimentIntensityAnalyzer\n",
    "analyzer = SentimentIntensityAnalyzer()\n",
    "\n",
    "# Define a function to get sentiment labels using VADER\n",
    "def get_sentiment(text):\n",
    "    # Calculate sentiment scores using VADER\n",
    "    sentiment_scores = analyzer.polarity_scores(text)\n",
    "    compound_score = sentiment_scores['compound']\n",
    "    \n",
    "    # Define sentiment thresholds\n",
    "    if compound_score >= 0.05:\n",
    "        return POSITIVE\n",
    "    elif compound_score <= -0.05:\n",
    "        return NEGATIVE\n",
    "    else:\n",
    "        return NEUTRAL\n",
    "\n",
    "# Apply the function to the processed text column\n",
    "train_data['sentiment_label'] = train_data['processed_text'].apply(get_sentiment)\n",
    "test_data['sentiment_label'] = test_data['processed_text'].apply(get_sentiment)\n",
    "\n",
    "\n",
    "# Print the first few rows to verify the sentiment labels\n",
    "print(train_data[['text', 'sentiment_label']].head())\n",
    "print(test_data[['text', 'sentiment_label']].head())"
   ]
  },
  {
   "cell_type": "code",
   "execution_count": 4,
   "id": "fb914b98",
   "metadata": {},
   "outputs": [
    {
     "name": "stdout",
     "output_type": "stream",
     "text": [
      "<class 'pandas.core.frame.DataFrame'>\n",
      "RangeIndex: 120000 entries, 0 to 119999\n",
      "Data columns (total 6 columns):\n",
      " #   Column           Non-Null Count   Dtype \n",
      "---  ------           --------------   ----- \n",
      " 0   Class Index      120000 non-null  int64 \n",
      " 1   Title            120000 non-null  object\n",
      " 2   Description      120000 non-null  object\n",
      " 3   text             120000 non-null  object\n",
      " 4   processed_text   120000 non-null  object\n",
      " 5   sentiment_label  120000 non-null  int64 \n",
      "dtypes: int64(2), object(4)\n",
      "memory usage: 5.5+ MB\n"
     ]
    }
   ],
   "source": [
    "train_data.info()"
   ]
  },
  {
   "cell_type": "code",
   "execution_count": 4,
   "id": "2c0e6d03",
   "metadata": {},
   "outputs": [],
   "source": [
    "\n",
    "# Save the updated data with sentiment labels to CSV files\n",
    "train_data.to_csv('/Users/meetsmacbook/Downloads/train_with_sentiment.csv', index=False)\n",
    "test_data.to_csv('/Users/meetsmacbook/Downloads/test_with_sentiment.csv', index=False)"
   ]
  },
  {
   "cell_type": "code",
   "execution_count": null,
   "id": "38f6a04e",
   "metadata": {},
   "outputs": [],
   "source": [
    "df"
   ]
  }
 ],
 "metadata": {
  "kernelspec": {
   "display_name": "Python 3 (ipykernel)",
   "language": "python",
   "name": "python3"
  },
  "language_info": {
   "codemirror_mode": {
    "name": "ipython",
    "version": 3
   },
   "file_extension": ".py",
   "mimetype": "text/x-python",
   "name": "python",
   "nbconvert_exporter": "python",
   "pygments_lexer": "ipython3",
   "version": "3.11.3"
  }
 },
 "nbformat": 4,
 "nbformat_minor": 5
}
